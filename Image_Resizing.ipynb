{
 "cells": [
  {
   "cell_type": "markdown",
   "metadata": {},
   "source": [
    "##  MODULES"
   ]
  },
  {
   "cell_type": "code",
   "execution_count": 61,
   "metadata": {},
   "outputs": [],
   "source": [
    "import os\n",
    "import numpy as np\n",
    "import matplotlib.pylab as plt\n",
    "from PIL import Image"
   ]
  },
  {
   "cell_type": "markdown",
   "metadata": {},
   "source": [
    "## Main Program"
   ]
  },
  {
   "cell_type": "code",
   "execution_count": 91,
   "metadata": {},
   "outputs": [
    {
     "name": "stdout",
     "output_type": "stream",
     "text": [
      "Before:  (1024, 1024, 3) <class 'numpy.ndarray'> \t\t 1.jpeg\n",
      "Before:  (200, 300, 3) <class 'numpy.ndarray'> \t\t 10.jpg\n",
      "Before:  (183, 275, 3) <class 'numpy.ndarray'> \t\t 11.jpg\n",
      "Before:  (225, 338, 3) <class 'numpy.ndarray'> \t\t 12.jpg\n",
      "Before:  (168, 300, 3) <class 'numpy.ndarray'> \t\t 13.jpg\n",
      "Before:  (183, 275, 3) <class 'numpy.ndarray'> \t\t 14.jpg\n",
      "Before:  (909, 1920, 3) <class 'numpy.ndarray'> \t\t 15.jpg\n",
      "Before:  (3000, 4000, 3) <class 'numpy.ndarray'> \t\t 16.JPG\n",
      "Before:  (2000, 3000, 3) <class 'numpy.ndarray'> \t\t 17.JPG\n",
      "Before:  (844, 1500, 3) <class 'numpy.ndarray'> \t\t 18.jpg\n",
      "Before:  (900, 1600, 3) <class 'numpy.ndarray'> \t\t 19.jpg\n",
      "Before:  (1216, 2150, 3) <class 'numpy.ndarray'> \t\t 2.jpeg\n",
      "Before:  (640, 960, 3) <class 'numpy.ndarray'> \t\t 20.jpg\n",
      "Before:  (600, 900, 3) <class 'numpy.ndarray'> \t\t 3.jpg\n",
      "Before:  (1200, 1600, 3) <class 'numpy.ndarray'> \t\t 4.JPG\n",
      "Before:  (2736, 2736, 3) <class 'numpy.ndarray'> \t\t 5.jpg\n",
      "Before:  (478, 717, 3) <class 'numpy.ndarray'> \t\t 6.jpg\n",
      "Before:  (1760, 2640, 3) <class 'numpy.ndarray'> \t\t 7.jpg\n",
      "Before:  (539, 745, 3) <class 'numpy.ndarray'> \t\t 8.jpg\n",
      "Before:  (449, 920, 3) <class 'numpy.ndarray'> \t\t 9.jpg\n",
      "\n",
      " --------------------------------------------------- \n",
      "\n",
      "After:  (512, 512, 3) <class 'numpy.ndarray'> \t\t 1.jpeg\n",
      "After:  (512, 512, 3) <class 'numpy.ndarray'> \t\t 10.jpg\n",
      "After:  (512, 512, 3) <class 'numpy.ndarray'> \t\t 11.jpg\n",
      "After:  (512, 512, 3) <class 'numpy.ndarray'> \t\t 12.jpg\n",
      "After:  (512, 512, 3) <class 'numpy.ndarray'> \t\t 13.jpg\n",
      "After:  (512, 512, 3) <class 'numpy.ndarray'> \t\t 14.jpg\n",
      "After:  (512, 512, 3) <class 'numpy.ndarray'> \t\t 15.jpg\n",
      "After:  (512, 512, 3) <class 'numpy.ndarray'> \t\t 16.JPG\n",
      "After:  (512, 512, 3) <class 'numpy.ndarray'> \t\t 17.JPG\n",
      "After:  (512, 512, 3) <class 'numpy.ndarray'> \t\t 18.jpg\n",
      "After:  (512, 512, 3) <class 'numpy.ndarray'> \t\t 19.jpg\n",
      "After:  (512, 512, 3) <class 'numpy.ndarray'> \t\t 2.jpeg\n",
      "After:  (512, 512, 3) <class 'numpy.ndarray'> \t\t 20.jpg\n",
      "After:  (512, 512, 3) <class 'numpy.ndarray'> \t\t 3.jpg\n",
      "After:  (512, 512, 3) <class 'numpy.ndarray'> \t\t 4.JPG\n",
      "After:  (512, 512, 3) <class 'numpy.ndarray'> \t\t 5.jpg\n",
      "After:  (512, 512, 3) <class 'numpy.ndarray'> \t\t 6.jpg\n",
      "After:  (512, 512, 3) <class 'numpy.ndarray'> \t\t 7.jpg\n",
      "After:  (512, 512, 3) <class 'numpy.ndarray'> \t\t 8.jpg\n",
      "After:  (512, 512, 3) <class 'numpy.ndarray'> \t\t 9.jpg\n"
     ]
    }
   ],
   "source": [
    "########################################################################\n",
    "                                                                       #\n",
    "for i in os.listdir(r'./images/.'):                                    #\n",
    "    # Before Resizing:                                                 #\n",
    "    B = plt.imread(f\"./images/{i}\")                                    #\n",
    "    print('Before: ',B.shape,type(B),'\\t\\t',i)                         #\n",
    "                                                                       # \n",
    "    img = Image.open(f'./images/{i}') # image extension *.png,*.jpg    #\n",
    "    new_width  = 512                                                   #\n",
    "    new_height = 512                                                   #\n",
    "                                                                       #\n",
    "    img = img.resize((new_width, new_height), Image.ANTIALIAS)         #\n",
    "    img.save(f'Resized/{i}')                                           #\n",
    "                                                                       #\n",
    "########################################################################\n",
    "\n",
    "print('\\n --------------------------------------------------- \\n')\n",
    "\n",
    "#################################################\n",
    "                                                #\n",
    "for i in os.listdir(r'./Resized/.'):            #\n",
    "                                                #\n",
    "    # After Resizing:                           #\n",
    "    A = plt.imread(f\"./Resized/{i}\")            #\n",
    "    print('After: ',A.shape,type(A),'\\t\\t',i)   #\n",
    "                                                #\n",
    "#################################################\n",
    "    "
   ]
  },
  {
   "cell_type": "code",
   "execution_count": null,
   "metadata": {},
   "outputs": [],
   "source": []
  }
 ],
 "metadata": {
  "kernelspec": {
   "display_name": "Python 3",
   "language": "python",
   "name": "python3"
  },
  "language_info": {
   "codemirror_mode": {
    "name": "ipython",
    "version": 3
   },
   "file_extension": ".py",
   "mimetype": "text/x-python",
   "name": "python",
   "nbconvert_exporter": "python",
   "pygments_lexer": "ipython3",
   "version": "3.6.8"
  }
 },
 "nbformat": 4,
 "nbformat_minor": 2
}
